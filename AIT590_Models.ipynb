{
 "cells": [
  {
   "cell_type": "markdown",
   "metadata": {},
   "source": [
    "From the features selected from AIT590_FeatureSelection. We have generted models.\n",
    "1. Subset the data for each city\n",
    "2. Generate user-Rating Matrix\n",
    "3. Apply K-Means clustering\n",
    "4. Apply Extra Tree Classifier to exatrct feature important"
   ]
  },
  {
   "cell_type": "code",
   "execution_count": null,
   "metadata": {},
   "outputs": [],
   "source": [
    "import pandas as pd\n",
    "from sklearn.metrics.pairwise import cosine_similarity\n",
    "import numpy as np\n",
    "from sklearn.cluster import SpectralClustering, KMeans\n",
    "import networkx as nx\n",
    "from matplotlib import pyplot as plt\n",
    "from scipy.sparse.linalg import svds\n",
    "from kneed import KneeLocator\n",
    "from sklearn.ensemble import ExtraTreesClassifier\n",
    "from sklearn.metrics import f1_score, roc_auc_score\n",
    "from sklearn.model_selection import train_test_split\n",
    "from sklearn.metrics import accuracy_score\n",
    "import collections\n",
    "from statistics import mean\n",
    "from sklearn.model_selection import cross_val_score\n",
    "from sklearn.metrics import silhouette_score"
   ]
  },
  {
   "cell_type": "code",
   "execution_count": 16,
   "metadata": {},
   "outputs": [],
   "source": [
    "data = pd.read_csv('FinalFeatures1.csv')"
   ]
  },
  {
   "cell_type": "markdown",
   "metadata": {},
   "source": [
    "##### Understanding data"
   ]
  },
  {
   "cell_type": "code",
   "execution_count": 17,
   "metadata": {},
   "outputs": [
    {
     "data": {
      "text/plain": [
       "Index(['Unnamed: 0', 'review', 'business', 'aioli', 'albacore', 'american',\n",
       "       'angus', 'apple', 'argula', 'asiago',\n",
       "       ...\n",
       "       'vino', 'waffle', 'whipped', 'white', 'wine', 'yummy', 'stars', 'city',\n",
       "       'latitude', 'longitude'],\n",
       "      dtype='object', length=265)"
      ]
     },
     "execution_count": 17,
     "metadata": {},
     "output_type": "execute_result"
    }
   ],
   "source": [
    "data.columns"
   ]
  },
  {
   "cell_type": "code",
   "execution_count": 18,
   "metadata": {},
   "outputs": [
    {
     "data": {
      "text/plain": [
       "(500, 265)"
      ]
     },
     "execution_count": 18,
     "metadata": {},
     "output_type": "execute_result"
    }
   ],
   "source": [
    "data.shape"
   ]
  },
  {
   "cell_type": "code",
   "execution_count": 19,
   "metadata": {},
   "outputs": [],
   "source": [
    "data = data.drop('Unnamed: 0',1)"
   ]
  },
  {
   "cell_type": "code",
   "execution_count": 20,
   "metadata": {},
   "outputs": [],
   "source": [
    "userdata = pd.read_csv('AIT590-data.csv')\n",
    "#userdata = pd.read_csv(\"C:/Users/varal/Downloads/AIT590-data.csv\")"
   ]
  },
  {
   "cell_type": "code",
   "execution_count": 21,
   "metadata": {},
   "outputs": [
    {
     "data": {
      "text/plain": [
       "Index(['business_id', 'name', 'city', 'postal_code', 'latitude', 'longitude',\n",
       "       'Restaurant Rating', 'review_count', 'user_id', 'review_id',\n",
       "       'User-RestaurantRating', 'text', 'date', 'user-reviewCount'],\n",
       "      dtype='object')"
      ]
     },
     "execution_count": 21,
     "metadata": {},
     "output_type": "execute_result"
    }
   ],
   "source": [
    "userdata.columns"
   ]
  },
  {
   "cell_type": "code",
   "execution_count": 22,
   "metadata": {},
   "outputs": [
    {
     "data": {
      "text/plain": [
       "(30199, 14)"
      ]
     },
     "execution_count": 22,
     "metadata": {},
     "output_type": "execute_result"
    }
   ],
   "source": [
    "userdata.shape"
   ]
  },
  {
   "cell_type": "code",
   "execution_count": 23,
   "metadata": {},
   "outputs": [],
   "source": [
    "# Dropping the rows where user id is unknown\n",
    "userdata = userdata[userdata['user_id'] != '#NAME?']"
   ]
  },
  {
   "cell_type": "code",
   "execution_count": 24,
   "metadata": {},
   "outputs": [
    {
     "data": {
      "text/plain": [
       "966"
      ]
     },
     "execution_count": 24,
     "metadata": {},
     "output_type": "execute_result"
    }
   ],
   "source": [
    "# On whole we have 966 users, where max number ratings a user has given is 150 and min is 21\n",
    "len(set(userdata['user_id']))"
   ]
  },
  {
   "cell_type": "code",
   "execution_count": 25,
   "metadata": {},
   "outputs": [],
   "source": [
    "# Droping Rows where Restaurant (business id is unknown)\n",
    "# Finally we will have 494 restaurants\n",
    "data = data[data['business'] != '#NAME?']"
   ]
  },
  {
   "cell_type": "code",
   "execution_count": 26,
   "metadata": {},
   "outputs": [],
   "source": [
    "userdata = userdata[userdata['business_id'] != '#NAME?']"
   ]
  },
  {
   "cell_type": "code",
   "execution_count": 27,
   "metadata": {},
   "outputs": [
    {
     "data": {
      "text/plain": [
       "Cleveland     100\n",
       "Charlotte     100\n",
       "Pittsburgh    100\n",
       "Las Vegas      99\n",
       "Phoenix        95\n",
       "Name: city, dtype: int64"
      ]
     },
     "execution_count": 27,
     "metadata": {},
     "output_type": "execute_result"
    }
   ],
   "source": [
    "data['city'].value_counts()"
   ]
  },
  {
   "cell_type": "code",
   "execution_count": 28,
   "metadata": {},
   "outputs": [],
   "source": [
    "# Sub setting the data for each city\n",
    "dataCharlotte = userdata[userdata['city'] == 'Charlotte']\n",
    "dataPittsburgh = userdata[userdata['city'] == 'Pittsburgh']\n",
    "dataCleveland = userdata[userdata['city'] == 'Cleveland']\n",
    "dataVegas = userdata[userdata['city'] == 'Las Vegas']\n",
    "dataPhoenix = userdata[userdata['city'] == 'Phoenix']"
   ]
  },
  {
   "cell_type": "code",
   "execution_count": 29,
   "metadata": {},
   "outputs": [
    {
     "data": {
      "text/plain": [
       "Index(['business_id', 'name', 'city', 'postal_code', 'latitude', 'longitude',\n",
       "       'Restaurant Rating', 'review_count', 'user_id', 'review_id',\n",
       "       'User-RestaurantRating', 'text', 'date', 'user-reviewCount'],\n",
       "      dtype='object')"
      ]
     },
     "execution_count": 29,
     "metadata": {},
     "output_type": "execute_result"
    }
   ],
   "source": [
    "len(set(userdata['business_id']))\n",
    "dataCharlotte.columns"
   ]
  },
  {
   "cell_type": "code",
   "execution_count": 30,
   "metadata": {},
   "outputs": [
    {
     "data": {
      "text/plain": [
       "966"
      ]
     },
     "execution_count": 30,
     "metadata": {},
     "output_type": "execute_result"
    }
   ],
   "source": [
    "len(set(userdata['user_id']))"
   ]
  },
  {
   "cell_type": "code",
   "execution_count": 31,
   "metadata": {},
   "outputs": [
    {
     "data": {
      "text/plain": [
       "(29493, 14)"
      ]
     },
     "execution_count": 31,
     "metadata": {},
     "output_type": "execute_result"
    }
   ],
   "source": [
    "userdata.shape"
   ]
  },
  {
   "cell_type": "code",
   "execution_count": 32,
   "metadata": {},
   "outputs": [
    {
     "data": {
      "text/plain": [
       "'spectral clustering\\n# degree matrix\\n    #D = np.diag(np.sum(np.array(similarity), axis=1))\\n    # laplacian matrix\\n    #L = D - similarity\\n    # e is eigen values, v is eigen vectors\\n    #e, v = np.linalg.eig(L)\\n    #v = v[:,np.argsort(e)]\\n    #e = e[np.argsort(e)]\\n    #e1 = list(e)\\n    #largest_gap = np.argmax(np.diff(e1))\\n    #clusters = largest_gap+1\\n    '"
      ]
     },
     "execution_count": 32,
     "metadata": {},
     "output_type": "execute_result"
    }
   ],
   "source": [
    "'''spectral clustering\n",
    "# degree matrix\n",
    "    #D = np.diag(np.sum(np.array(similarity), axis=1))\n",
    "    # laplacian matrix\n",
    "    #L = D - similarity\n",
    "    # e is eigen values, v is eigen vectors\n",
    "    #e, v = np.linalg.eig(L)\n",
    "    #v = v[:,np.argsort(e)]\n",
    "    #e = e[np.argsort(e)]\n",
    "    #e1 = list(e)\n",
    "    #largest_gap = np.argmax(np.diff(e1))\n",
    "    #clusters = largest_gap+1\n",
    "    '''"
   ]
  },
  {
   "cell_type": "code",
   "execution_count": 45,
   "metadata": {},
   "outputs": [],
   "source": [
    "# The below method generates user-ratings matrix, performs elbow method and to identify the appropriate number of clusters\n",
    "# Apply K-Means clustering and label the data\n",
    "def userRestaurantMatrix(data):\n",
    "    matrix = pd.pivot_table(data,values='User-RestaurantRating',index=['user_id'], columns=['business_id'],fill_value = 0)\n",
    "    new_df = pd.DataFrame(matrix.to_records())\n",
    "    ID = list(new_df.columns)\n",
    "    ID.remove('user_id')\n",
    "    # SVD - Matrix Factorization\n",
    "    user_ratings_mean = np.mean(matrix, axis = 1)\n",
    "    R_demeaned = matrix - user_ratings_mean.values.reshape(-1, 1)\n",
    "    U, sigma, Vt = svds(R_demeaned, k = 50)\n",
    "    sigma = np.diag(sigma)\n",
    "    all_user_predicted_ratings = np.dot(np.dot(U, sigma), Vt) + user_ratings_mean.values.reshape(-1, 1)\n",
    "    ###\n",
    "    new_df = pd.DataFrame(all_user_predicted_ratings, columns = list(new_df.columns)[1:])\n",
    "    #print(new_df.shape)\n",
    "    # Pairwise similarity\n",
    "    similarity = cosine_similarity(new_df.T)\n",
    "    # K-Means\n",
    "    #print(np.shape(similarity))\n",
    "    sse = []\n",
    "    for k in range(1, 11):\n",
    "        kmeans = KMeans(n_clusters=k)\n",
    "        kmeans.fit(similarity)\n",
    "        sse.append(kmeans.inertia_)\n",
    "    # Kneed method is used to identify the best number of clusters\n",
    "    kl = KneeLocator(range(1, 11), sse, curve=\"convex\", direction=\"decreasing\")\n",
    "    # We are using elbow method to identify the best number of clusters\n",
    "    cluster = kl.elbow\n",
    "    # Clustering our dataset\n",
    "    kmeans = KMeans(n_clusters=cluster)\n",
    "    kmeans.fit(similarity[:])\n",
    "    colors = kmeans.labels_\n",
    "    print(len(colors))\n",
    "    return similarity, sse, list(colors), cluster, ID"
   ]
  },
  {
   "cell_type": "code",
   "execution_count": 54,
   "metadata": {},
   "outputs": [
    {
     "name": "stdout",
     "output_type": "stream",
     "text": [
      "100\n",
      "100\n",
      "100\n",
      "99\n",
      "95\n"
     ]
    }
   ],
   "source": [
    "#Creating user Restaurant Matrix, generating pairwise cosine similarity matrix to identify how similar are these restaurants\n",
    "similarityCharlotte, sseCharlotte, colorCharlotte,c1, IDCharlotte = userRestaurantMatrix(dataCharlotte) \n",
    "similarityPittsburgh, ssePittsburgh, colorPittsburgh, c2, IDPittsburgh = userRestaurantMatrix(dataPittsburgh)\n",
    "similarityCleveland, sseCleveland, colorCleveland, c3, IDCleveland = userRestaurantMatrix(dataCleveland)\n",
    "similarityVegas, sseVegas, colorVegas, c4, IDVegas = userRestaurantMatrix(dataVegas)\n",
    "similarityPhoenix, ssePhoenix, colorPhoenix, c5, IDPhoenix = userRestaurantMatrix(dataPhoenix)"
   ]
  },
  {
   "cell_type": "code",
   "execution_count": 55,
   "metadata": {},
   "outputs": [
    {
     "data": {
      "text/plain": [
       "array([[1.        , 0.38947161, 0.38498418, ..., 0.51578331, 0.40149393,\n",
       "        0.33478741],\n",
       "       [0.38947161, 1.        , 0.17631195, ..., 0.33766623, 0.35196152,\n",
       "        0.11804673],\n",
       "       [0.38498418, 0.17631195, 1.        , ..., 0.24771833, 0.28399848,\n",
       "        0.1384133 ],\n",
       "       ...,\n",
       "       [0.51578331, 0.33766623, 0.24771833, ..., 1.        , 0.39463587,\n",
       "        0.37805851],\n",
       "       [0.40149393, 0.35196152, 0.28399848, ..., 0.39463587, 1.        ,\n",
       "        0.10476029],\n",
       "       [0.33478741, 0.11804673, 0.1384133 , ..., 0.37805851, 0.10476029,\n",
       "        1.        ]])"
      ]
     },
     "execution_count": 55,
     "metadata": {},
     "output_type": "execute_result"
    }
   ],
   "source": [
    "similarityCharlotte"
   ]
  },
  {
   "cell_type": "code",
   "execution_count": 56,
   "metadata": {},
   "outputs": [
    {
     "name": "stdout",
     "output_type": "stream",
     "text": [
      " 4 4 3 3 4\n"
     ]
    }
   ],
   "source": [
    "print(' '+str(c1)+' '+str(c2)+' '+str(c3)+' '+str(c4)+' '+str(c5))"
   ]
  },
  {
   "cell_type": "code",
   "execution_count": 68,
   "metadata": {},
   "outputs": [
    {
     "data": {
      "image/png": "[encoded data removed]",
      "text/plain": [
       "<Figure size 432x288 with 1 Axes>"
      ]
     },
     "metadata": {},
     "output_type": "display_data"
    }
   ],
   "source": [
    "# plot for sse, to identify the appropriate number of clusters\n",
    "plt.style.use(\"fivethirtyeight\")\n",
    "plt.plot(range(1, 11), ssePhoenix)\n",
    "plt.xticks(range(1, 11))\n",
    "plt.xlabel(\"Number of Clusters Phoenix\")\n",
    "plt.ylabel(\"SSE\")\n",
    "plt.axvline(c5,color = 'r')\n",
    "plt.show()"
   ]
  },
  {
   "cell_type": "code",
   "execution_count": 114,
   "metadata": {},
   "outputs": [],
   "source": [
    "# add label to the data, extract features for each city. We used cross_val_score to find accuracy \n",
    "def featureImportance(data,city,c,business_ID):\n",
    "    data = data[data['city'] == city]\n",
    "    #data = data.dropna()\n",
    "    df = pd.DataFrame()\n",
    "    df['business'] = business_ID\n",
    "    df['cluster'] = c\n",
    "    final_data = pd.merge(data, df.rename(columns={'business':'business'}), on='business',  how='left')\n",
    "    final_data = final_data.reset_index()\n",
    "    final_data = final_data.drop('business',1)\n",
    "    Y = final_data['cluster'] # target column\n",
    "    X = final_data.drop(columns = ['cluster','review','city','stars','index','latitude','longitude'])  #independent columns\n",
    "    d = pd.DataFrame()\n",
    "    d['latitude'] = data['latitude']\n",
    "    d['longitude'] = data['longitude']\n",
    "    d['cluster'] = c\n",
    "    d['city'] = city\n",
    "    # train-test split\n",
    "    X_train, X_test, y_train, y_test = train_test_split(X, Y, test_size=0.20, random_state=42)\n",
    "    model = ExtraTreesClassifier()\n",
    "    model.fit(X_train,y_train)\n",
    "    y_pred = model.predict(X_test)\n",
    "    # F1 score\n",
    "    #f1 = accuracy_score(y_test, y_pred)\n",
    "    f1 = cross_val_score(model, X, Y, cv=5)\n",
    "    f1 = mean(f1)\n",
    "    # feature importance\n",
    "    features = model.feature_importances_\n",
    "    # list of column names from original data\n",
    "    cols = X.columns\n",
    "    # feature importances from random forest fit rf\n",
    "    # form dictionary of feature ranks and features\n",
    "    features_dict = dict(zip(np.argsort(features),cols))\n",
    "    features_dict = sorted(features_dict.items())[:20]\n",
    "    # Extracting features from list\n",
    "    feature = []\n",
    "    for item in features_dict:\n",
    "        feature.append(item[1])\n",
    "    # the dictionary key are the importance rank; the values are the feature name\n",
    "    return f1,feature,d"
   ]
  },
  {
   "cell_type": "code",
   "execution_count": 115,
   "metadata": {},
   "outputs": [],
   "source": [
    "f1,x1,d1 = featureImportance(data,'Pittsburgh',colorPittsburgh,IDPittsburgh)\n",
    "f2, x2,d2 = featureImportance(data,'Las Vegas',colorVegas,IDVegas)\n",
    "f3,x3,d3 = featureImportance(data,'Charlotte',colorCharlotte,IDCharlotte)\n",
    "f4,x4,d4 = featureImportance(data,'Phoenix',colorPhoenix,IDPhoenix)\n",
    "f5,x5,d5 = featureImportance(data,'Cleveland',colorCleveland,IDCleveland)"
   ]
  },
  {
   "cell_type": "code",
   "execution_count": 116,
   "metadata": {},
   "outputs": [
    {
     "name": "stdout",
     "output_type": "stream",
     "text": [
      " 0.36 0.7784210526315789 0.43 0.47368421052631576 0.6\n"
     ]
    }
   ],
   "source": [
    "print(' '+str(f1)+' '+str(f2)+' '+str(f3)+' '+str(f4)+' '+str(f5))"
   ]
  },
  {
   "cell_type": "code",
   "execution_count": 117,
   "metadata": {},
   "outputs": [],
   "source": [
    "features = [x1,x2,x3,x4,x5]"
   ]
  },
  {
   "cell_type": "code",
   "execution_count": 118,
   "metadata": {},
   "outputs": [],
   "source": [
    "data1 = pd.DataFrame()\n",
    "data1 = data1.append(d1)\n",
    "data1 = data1.append([d2,d3,d4,d5])"
   ]
  },
  {
   "cell_type": "code",
   "execution_count": null,
   "metadata": {},
   "outputs": [],
   "source": []
  }
 ],
 "metadata": {
  "kernelspec": {
   "display_name": "Python 3",
   "language": "python",
   "name": "python3"
  },
  "language_info": {
   "codemirror_mode": {
    "name": "ipython",
    "version": 3
   },
   "file_extension": ".py",
   "mimetype": "text/x-python",
   "name": "python",
   "nbconvert_exporter": "python",
   "pygments_lexer": "ipython3",
   "version": "3.7.6"
  }
 },
 "nbformat": 4,
 "nbformat_minor": 4
}
