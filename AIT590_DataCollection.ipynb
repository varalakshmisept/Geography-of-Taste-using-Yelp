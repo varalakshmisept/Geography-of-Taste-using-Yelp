{
 "cells": [
  {
   "cell_type": "code",
   "execution_count": 2,
   "metadata": {},
   "outputs": [],
   "source": [
    "import pandas as pd\n",
    "import json\n",
    "import numpy as np"
   ]
  },
  {
   "cell_type": "markdown",
   "metadata": {},
   "source": [
    "### Business Data"
   ]
  },
  {
   "cell_type": "code",
   "execution_count": 3,
   "metadata": {},
   "outputs": [],
   "source": [
    "# Load Yelp business data\n",
    "biz_f = open(\"C:/Users/varal/Downloads/archive/yelp_academic_dataset_business.json\",encoding='utf-8')\n",
    "biz_df = pd.DataFrame([json.loads(x) for x in biz_f.readlines()])\n",
    "biz_f.close()\n"
   ]
  },
  {
   "cell_type": "code",
   "execution_count": 4,
   "metadata": {},
   "outputs": [
    {
     "data": {
      "text/plain": [
       "(209393, 14)"
      ]
     },
     "execution_count": 4,
     "metadata": {},
     "output_type": "execute_result"
    }
   ],
   "source": [
    "biz_df.shape"
   ]
  },
  {
   "cell_type": "code",
   "execution_count": 5,
   "metadata": {},
   "outputs": [
    {
     "data": {
      "text/plain": [
       "Index(['business_id', 'name', 'address', 'city', 'state', 'postal_code',\n",
       "       'latitude', 'longitude', 'stars', 'review_count', 'is_open',\n",
       "       'attributes', 'categories', 'hours'],\n",
       "      dtype='object')"
      ]
     },
     "execution_count": 5,
     "metadata": {},
     "output_type": "execute_result"
    }
   ],
   "source": [
    "biz_df.columns"
   ]
  },
  {
   "cell_type": "code",
   "execution_count": 6,
   "metadata": {},
   "outputs": [
    {
     "data": {
      "text/html": [
       "<div>\n",
       "<style scoped>\n",
       "    .dataframe tbody tr th:only-of-type {\n",
       "        vertical-align: middle;\n",
       "    }\n",
       "\n",
       "    .dataframe tbody tr th {\n",
       "        vertical-align: top;\n",
       "    }\n",
       "\n",
       "    .dataframe thead th {\n",
       "        text-align: right;\n",
       "    }\n",
       "</style>\n",
       "<table border=\"1\" class=\"dataframe\">\n",
       "  <thead>\n",
       "    <tr style=\"text-align: right;\">\n",
       "      <th></th>\n",
       "      <th>business_id</th>\n",
       "      <th>name</th>\n",
       "      <th>address</th>\n",
       "      <th>city</th>\n",
       "      <th>state</th>\n",
       "      <th>postal_code</th>\n",
       "      <th>latitude</th>\n",
       "      <th>longitude</th>\n",
       "      <th>stars</th>\n",
       "      <th>review_count</th>\n",
       "      <th>is_open</th>\n",
       "      <th>attributes</th>\n",
       "      <th>categories</th>\n",
       "      <th>hours</th>\n",
       "    </tr>\n",
       "  </thead>\n",
       "  <tbody>\n",
       "    <tr>\n",
       "      <th>0</th>\n",
       "      <td>f9NumwFMBDn751xgFiRbNA</td>\n",
       "      <td>The Range At Lake Norman</td>\n",
       "      <td>10913 Bailey Rd</td>\n",
       "      <td>Cornelius</td>\n",
       "      <td>NC</td>\n",
       "      <td>28031</td>\n",
       "      <td>35.462724</td>\n",
       "      <td>-80.852612</td>\n",
       "      <td>3.5</td>\n",
       "      <td>36</td>\n",
       "      <td>1</td>\n",
       "      <td>{'BusinessAcceptsCreditCards': 'True', 'BikePa...</td>\n",
       "      <td>Active Life, Gun/Rifle Ranges, Guns &amp; Ammo, Sh...</td>\n",
       "      <td>{'Monday': '10:0-18:0', 'Tuesday': '11:0-20:0'...</td>\n",
       "    </tr>\n",
       "    <tr>\n",
       "      <th>1</th>\n",
       "      <td>Yzvjg0SayhoZgCljUJRF9Q</td>\n",
       "      <td>Carlos Santo, NMD</td>\n",
       "      <td>8880 E Via Linda, Ste 107</td>\n",
       "      <td>Scottsdale</td>\n",
       "      <td>AZ</td>\n",
       "      <td>85258</td>\n",
       "      <td>33.569404</td>\n",
       "      <td>-111.890264</td>\n",
       "      <td>5.0</td>\n",
       "      <td>4</td>\n",
       "      <td>1</td>\n",
       "      <td>{'GoodForKids': 'True', 'ByAppointmentOnly': '...</td>\n",
       "      <td>Health &amp; Medical, Fitness &amp; Instruction, Yoga,...</td>\n",
       "      <td>None</td>\n",
       "    </tr>\n",
       "    <tr>\n",
       "      <th>2</th>\n",
       "      <td>XNoUzKckATkOD1hP6vghZg</td>\n",
       "      <td>Felinus</td>\n",
       "      <td>3554 Rue Notre-Dame O</td>\n",
       "      <td>Montreal</td>\n",
       "      <td>QC</td>\n",
       "      <td>H4C 1P4</td>\n",
       "      <td>45.479984</td>\n",
       "      <td>-73.580070</td>\n",
       "      <td>5.0</td>\n",
       "      <td>5</td>\n",
       "      <td>1</td>\n",
       "      <td>None</td>\n",
       "      <td>Pets, Pet Services, Pet Groomers</td>\n",
       "      <td>None</td>\n",
       "    </tr>\n",
       "    <tr>\n",
       "      <th>3</th>\n",
       "      <td>6OAZjbxqM5ol29BuHsil3w</td>\n",
       "      <td>Nevada House of Hose</td>\n",
       "      <td>1015 Sharp Cir</td>\n",
       "      <td>North Las Vegas</td>\n",
       "      <td>NV</td>\n",
       "      <td>89030</td>\n",
       "      <td>36.219728</td>\n",
       "      <td>-115.127725</td>\n",
       "      <td>2.5</td>\n",
       "      <td>3</td>\n",
       "      <td>0</td>\n",
       "      <td>{'BusinessAcceptsCreditCards': 'True', 'ByAppo...</td>\n",
       "      <td>Hardware Stores, Home Services, Building Suppl...</td>\n",
       "      <td>{'Monday': '7:0-16:0', 'Tuesday': '7:0-16:0', ...</td>\n",
       "    </tr>\n",
       "    <tr>\n",
       "      <th>4</th>\n",
       "      <td>51M2Kk903DFYI6gnB5I6SQ</td>\n",
       "      <td>USE MY GUY SERVICES LLC</td>\n",
       "      <td>4827 E Downing Cir</td>\n",
       "      <td>Mesa</td>\n",
       "      <td>AZ</td>\n",
       "      <td>85205</td>\n",
       "      <td>33.428065</td>\n",
       "      <td>-111.726648</td>\n",
       "      <td>4.5</td>\n",
       "      <td>26</td>\n",
       "      <td>1</td>\n",
       "      <td>{'BusinessAcceptsCreditCards': 'True', 'ByAppo...</td>\n",
       "      <td>Home Services, Plumbing, Electricians, Handyma...</td>\n",
       "      <td>{'Monday': '0:0-0:0', 'Tuesday': '9:0-16:0', '...</td>\n",
       "    </tr>\n",
       "  </tbody>\n",
       "</table>\n",
       "</div>"
      ],
      "text/plain": [
       "              business_id                      name  \\\n",
       "0  f9NumwFMBDn751xgFiRbNA  The Range At Lake Norman   \n",
       "1  Yzvjg0SayhoZgCljUJRF9Q         Carlos Santo, NMD   \n",
       "2  XNoUzKckATkOD1hP6vghZg                   Felinus   \n",
       "3  6OAZjbxqM5ol29BuHsil3w      Nevada House of Hose   \n",
       "4  51M2Kk903DFYI6gnB5I6SQ   USE MY GUY SERVICES LLC   \n",
       "\n",
       "                     address             city state postal_code   latitude  \\\n",
       "0            10913 Bailey Rd        Cornelius    NC       28031  35.462724   \n",
       "1  8880 E Via Linda, Ste 107       Scottsdale    AZ       85258  33.569404   \n",
       "2      3554 Rue Notre-Dame O         Montreal    QC     H4C 1P4  45.479984   \n",
       "3             1015 Sharp Cir  North Las Vegas    NV       89030  36.219728   \n",
       "4         4827 E Downing Cir             Mesa    AZ       85205  33.428065   \n",
       "\n",
       "    longitude  stars  review_count  is_open  \\\n",
       "0  -80.852612    3.5            36        1   \n",
       "1 -111.890264    5.0             4        1   \n",
       "2  -73.580070    5.0             5        1   \n",
       "3 -115.127725    2.5             3        0   \n",
       "4 -111.726648    4.5            26        1   \n",
       "\n",
       "                                          attributes  \\\n",
       "0  {'BusinessAcceptsCreditCards': 'True', 'BikePa...   \n",
       "1  {'GoodForKids': 'True', 'ByAppointmentOnly': '...   \n",
       "2                                               None   \n",
       "3  {'BusinessAcceptsCreditCards': 'True', 'ByAppo...   \n",
       "4  {'BusinessAcceptsCreditCards': 'True', 'ByAppo...   \n",
       "\n",
       "                                          categories  \\\n",
       "0  Active Life, Gun/Rifle Ranges, Guns & Ammo, Sh...   \n",
       "1  Health & Medical, Fitness & Instruction, Yoga,...   \n",
       "2                   Pets, Pet Services, Pet Groomers   \n",
       "3  Hardware Stores, Home Services, Building Suppl...   \n",
       "4  Home Services, Plumbing, Electricians, Handyma...   \n",
       "\n",
       "                                               hours  \n",
       "0  {'Monday': '10:0-18:0', 'Tuesday': '11:0-20:0'...  \n",
       "1                                               None  \n",
       "2                                               None  \n",
       "3  {'Monday': '7:0-16:0', 'Tuesday': '7:0-16:0', ...  \n",
       "4  {'Monday': '0:0-0:0', 'Tuesday': '9:0-16:0', '...  "
      ]
     },
     "execution_count": 6,
     "metadata": {},
     "output_type": "execute_result"
    }
   ],
   "source": [
    "biz_df.head()"
   ]
  },
  {
   "cell_type": "code",
   "execution_count": 7,
   "metadata": {},
   "outputs": [
    {
     "data": {
      "text/plain": [
       "Nail Salons, Beauty & Spas                                                                                                                 1055\n",
       "Pizza, Restaurants                                                                                                                         1045\n",
       "Restaurants, Pizza                                                                                                                         1028\n",
       "Beauty & Spas, Nail Salons                                                                                                                 1017\n",
       "Food, Coffee & Tea                                                                                                                          980\n",
       "                                                                                                                                           ... \n",
       "Fitness & Instruction, Diving, Scuba Diving, Specialty Schools, Active Life, Education, Swimming Pools, Swimming Lessons/Schools              1\n",
       "Laundry Services, Shoe Repair, Dry Cleaning & Laundry, Local Services, Sewing & Alterations                                                   1\n",
       "Bars, Wine Bars, Nightlife, Sandwiches, American (New), Restaurants, Southern                                                                 1\n",
       "Local Flavor, Shopping, Beauty & Spas, Barbers, Men's Hair Salons, Yelp Events, Cosmetics & Beauty Supply, Hair Salons, Hair Extensions       1\n",
       "Caribbean, Restaurants, Food, Bakeries                                                                                                        1\n",
       "Name: categories, Length: 102494, dtype: int64"
      ]
     },
     "execution_count": 7,
     "metadata": {},
     "output_type": "execute_result"
    }
   ],
   "source": [
    "biz_df['categories'].value_counts()"
   ]
  },
  {
   "cell_type": "code",
   "execution_count": 8,
   "metadata": {},
   "outputs": [],
   "source": [
    "categories_data = pd.Series(biz_df['categories'])\n",
    "flagCategories = categories_data.str.contains('Restaurants', na=False)"
   ]
  },
  {
   "cell_type": "code",
   "execution_count": 9,
   "metadata": {},
   "outputs": [],
   "source": [
    "biz_df['flagCategories'] = (flagCategories)"
   ]
  },
  {
   "cell_type": "code",
   "execution_count": 10,
   "metadata": {},
   "outputs": [],
   "source": [
    "# considering only restaurant data\n",
    "biz_df = biz_df[biz_df['flagCategories'] == True]"
   ]
  },
  {
   "cell_type": "code",
   "execution_count": 11,
   "metadata": {},
   "outputs": [
    {
     "data": {
      "text/plain": [
       "(63944, 15)"
      ]
     },
     "execution_count": 11,
     "metadata": {},
     "output_type": "execute_result"
    }
   ],
   "source": [
    "biz_df.shape"
   ]
  },
  {
   "cell_type": "code",
   "execution_count": 12,
   "metadata": {},
   "outputs": [],
   "source": [
    "# extracting the data of Maine, San Francisco, Houston, Washington D.C., Miami  cities\n",
    "# AZ - 12,124 ; IL - 702, PA - 4259; NV(Las Vegas) - 8340, OH -  5914, NC - 4655; WI - 1794\n",
    "# AZ - Phoenix (4216); PA - Pittsburgh(2608); NV - Las Vegas(6930); OH - Cleveland(1549); NC - Charlotte(2920) \n",
    "# Pick restaurants with highest number of reviews\n",
    "bizPhoenix = ((biz_df[biz_df['city'] == 'Phoenix']).sort_values(by = ['review_count'],ascending = False))[:100]\n",
    "bizPittsburgh = ((biz_df[biz_df['city'] == 'Pittsburgh']).sort_values(by = ['review_count'],ascending = False))[:100]\n",
    "bizVegas = ((biz_df[biz_df['city'] == 'Las Vegas']).sort_values(by = ['review_count'],ascending = False))[:100]\n",
    "bizCleveland = ((biz_df[biz_df['city'] == 'Cleveland']).sort_values(by = ['review_count'],ascending = False))[:100]\n",
    "bizCharlotte = ((biz_df[biz_df['city'] == 'Charlotte']).sort_values(by = ['review_count'],ascending = False))[:100]"
   ]
  },
  {
   "cell_type": "code",
   "execution_count": 13,
   "metadata": {},
   "outputs": [],
   "source": [
    "data = pd.DataFrame()\n",
    "data = data.append(bizPhoenix)\n",
    "data = data.append(bizPittsburgh)\n",
    "data = data.append(bizVegas)\n",
    "data = data.append(bizCleveland)\n",
    "data = data.append(bizCharlotte)\n",
    "data = data[['business_id','name','city','postal_code','latitude','longitude','stars','review_count']]"
   ]
  },
  {
   "cell_type": "code",
   "execution_count": 14,
   "metadata": {},
   "outputs": [
    {
     "data": {
      "text/plain": [
       "(500, 8)"
      ]
     },
     "execution_count": 14,
     "metadata": {},
     "output_type": "execute_result"
    }
   ],
   "source": [
    "data.shape"
   ]
  },
  {
   "cell_type": "code",
   "execution_count": 15,
   "metadata": {},
   "outputs": [
    {
     "data": {
      "text/plain": [
       "223"
      ]
     },
     "execution_count": 15,
     "metadata": {},
     "output_type": "execute_result"
    }
   ],
   "source": [
    "min(data['review_count'])"
   ]
  },
  {
   "cell_type": "markdown",
   "metadata": {},
   "source": [
    "### Read Reviews data"
   ]
  },
  {
   "cell_type": "code",
   "execution_count": null,
   "metadata": {},
   "outputs": [],
   "source": [
    "# Load Yelp business data\n",
    "review_f = open(\"C:/Users/varal/Downloads/archive/yelp_academic_dataset_review.json\",encoding='utf-8')\n",
    "review_df = pd.DataFrame([json.loads(x) for x in review_f.readlines()])\n",
    "review_f.close()\n"
   ]
  },
  {
   "cell_type": "code",
   "execution_count": null,
   "metadata": {},
   "outputs": [],
   "source": [
    "review_df.shape"
   ]
  },
  {
   "cell_type": "code",
   "execution_count": 49,
   "metadata": {},
   "outputs": [
    {
     "data": {
      "text/plain": [
       "Index(['review_id', 'user_id', 'business_id', 'stars', 'useful', 'funny',\n",
       "       'cool', 'text', 'date'],\n",
       "      dtype='object')"
      ]
     },
     "execution_count": 49,
     "metadata": {},
     "output_type": "execute_result"
    }
   ],
   "source": [
    "review_df.columns"
   ]
  },
  {
   "cell_type": "code",
   "execution_count": 50,
   "metadata": {},
   "outputs": [],
   "source": [
    "review_df.head()\n",
    "review_df = review_df[['user_id','business_id','review_id','stars','text','date']]"
   ]
  },
  {
   "cell_type": "code",
   "execution_count": 51,
   "metadata": {},
   "outputs": [
    {
     "data": {
      "text/html": [
       "<div>\n",
       "<style scoped>\n",
       "    .dataframe tbody tr th:only-of-type {\n",
       "        vertical-align: middle;\n",
       "    }\n",
       "\n",
       "    .dataframe tbody tr th {\n",
       "        vertical-align: top;\n",
       "    }\n",
       "\n",
       "    .dataframe thead th {\n",
       "        text-align: right;\n",
       "    }\n",
       "</style>\n",
       "<table border=\"1\" class=\"dataframe\">\n",
       "  <thead>\n",
       "    <tr style=\"text-align: right;\">\n",
       "      <th></th>\n",
       "      <th>user_id</th>\n",
       "      <th>business_id</th>\n",
       "      <th>review_id</th>\n",
       "      <th>stars</th>\n",
       "      <th>text</th>\n",
       "      <th>date</th>\n",
       "    </tr>\n",
       "  </thead>\n",
       "  <tbody>\n",
       "    <tr>\n",
       "      <th>0</th>\n",
       "      <td>OwjRMXRC0KyPrIlcjaXeFQ</td>\n",
       "      <td>-MhfebM0QIsKt87iDN-FNw</td>\n",
       "      <td>xQY8N_XvtGbearJ5X4QryQ</td>\n",
       "      <td>2.0</td>\n",
       "      <td>As someone who has worked with many museums, I...</td>\n",
       "      <td>2015-04-15 05:21:16</td>\n",
       "    </tr>\n",
       "    <tr>\n",
       "      <th>1</th>\n",
       "      <td>nIJD_7ZXHq-FX8byPMOkMQ</td>\n",
       "      <td>lbrU8StCq3yDfr-QMnGrmQ</td>\n",
       "      <td>UmFMZ8PyXZTY2QcwzsfQYA</td>\n",
       "      <td>1.0</td>\n",
       "      <td>I am actually horrified this place is still in...</td>\n",
       "      <td>2013-12-07 03:16:52</td>\n",
       "    </tr>\n",
       "    <tr>\n",
       "      <th>2</th>\n",
       "      <td>V34qejxNsCbcgD8C0HVk-Q</td>\n",
       "      <td>HQl28KMwrEKHqhFrrDqVNQ</td>\n",
       "      <td>LG2ZaYiOgpr2DK_90pYjNw</td>\n",
       "      <td>5.0</td>\n",
       "      <td>I love Deagan's. I do. I really do. The atmosp...</td>\n",
       "      <td>2015-12-05 03:18:11</td>\n",
       "    </tr>\n",
       "    <tr>\n",
       "      <th>3</th>\n",
       "      <td>ofKDkJKXSKZXu5xJNGiiBQ</td>\n",
       "      <td>5JxlZaqCnk1MnbgRirs40Q</td>\n",
       "      <td>i6g_oA9Yf9Y31qt0wibXpw</td>\n",
       "      <td>1.0</td>\n",
       "      <td>Dismal, lukewarm, defrosted-tasting \"TexMex\" g...</td>\n",
       "      <td>2011-05-27 05:30:52</td>\n",
       "    </tr>\n",
       "    <tr>\n",
       "      <th>4</th>\n",
       "      <td>UgMW8bLE0QMJDCkQ1Ax5Mg</td>\n",
       "      <td>IS4cv902ykd8wj1TR0N3-A</td>\n",
       "      <td>6TdNDKywdbjoTkizeMce8A</td>\n",
       "      <td>4.0</td>\n",
       "      <td>Oh happy day, finally have a Canes near my cas...</td>\n",
       "      <td>2017-01-14 21:56:57</td>\n",
       "    </tr>\n",
       "  </tbody>\n",
       "</table>\n",
       "</div>"
      ],
      "text/plain": [
       "                  user_id             business_id               review_id  \\\n",
       "0  OwjRMXRC0KyPrIlcjaXeFQ  -MhfebM0QIsKt87iDN-FNw  xQY8N_XvtGbearJ5X4QryQ   \n",
       "1  nIJD_7ZXHq-FX8byPMOkMQ  lbrU8StCq3yDfr-QMnGrmQ  UmFMZ8PyXZTY2QcwzsfQYA   \n",
       "2  V34qejxNsCbcgD8C0HVk-Q  HQl28KMwrEKHqhFrrDqVNQ  LG2ZaYiOgpr2DK_90pYjNw   \n",
       "3  ofKDkJKXSKZXu5xJNGiiBQ  5JxlZaqCnk1MnbgRirs40Q  i6g_oA9Yf9Y31qt0wibXpw   \n",
       "4  UgMW8bLE0QMJDCkQ1Ax5Mg  IS4cv902ykd8wj1TR0N3-A  6TdNDKywdbjoTkizeMce8A   \n",
       "\n",
       "   stars                                               text  \\\n",
       "0    2.0  As someone who has worked with many museums, I...   \n",
       "1    1.0  I am actually horrified this place is still in...   \n",
       "2    5.0  I love Deagan's. I do. I really do. The atmosp...   \n",
       "3    1.0  Dismal, lukewarm, defrosted-tasting \"TexMex\" g...   \n",
       "4    4.0  Oh happy day, finally have a Canes near my cas...   \n",
       "\n",
       "                  date  \n",
       "0  2015-04-15 05:21:16  \n",
       "1  2013-12-07 03:16:52  \n",
       "2  2015-12-05 03:18:11  \n",
       "3  2011-05-27 05:30:52  \n",
       "4  2017-01-14 21:56:57  "
      ]
     },
     "execution_count": 51,
     "metadata": {},
     "output_type": "execute_result"
    }
   ],
   "source": [
    "review_df.head()"
   ]
  },
  {
   "cell_type": "code",
   "execution_count": 52,
   "metadata": {},
   "outputs": [],
   "source": [
    "businessID = data['business_id']"
   ]
  },
  {
   "cell_type": "code",
   "execution_count": 53,
   "metadata": {},
   "outputs": [],
   "source": [
    "newdata = pd.merge(data, review_df, on='business_id', how='left')"
   ]
  },
  {
   "cell_type": "code",
   "execution_count": 54,
   "metadata": {},
   "outputs": [],
   "source": [
    "newdata.shape\n",
    "newdata1 = newdata"
   ]
  },
  {
   "cell_type": "code",
   "execution_count": 55,
   "metadata": {},
   "outputs": [
    {
     "data": {
      "text/plain": [
       "(601460, 13)"
      ]
     },
     "execution_count": 55,
     "metadata": {},
     "output_type": "execute_result"
    }
   ],
   "source": [
    "newdata.shape"
   ]
  },
  {
   "cell_type": "code",
   "execution_count": 56,
   "metadata": {},
   "outputs": [
    {
     "data": {
      "text/html": [
       "<div>\n",
       "<style scoped>\n",
       "    .dataframe tbody tr th:only-of-type {\n",
       "        vertical-align: middle;\n",
       "    }\n",
       "\n",
       "    .dataframe tbody tr th {\n",
       "        vertical-align: top;\n",
       "    }\n",
       "\n",
       "    .dataframe thead th {\n",
       "        text-align: right;\n",
       "    }\n",
       "</style>\n",
       "<table border=\"1\" class=\"dataframe\">\n",
       "  <thead>\n",
       "    <tr style=\"text-align: right;\">\n",
       "      <th></th>\n",
       "      <th>business_id</th>\n",
       "      <th>name</th>\n",
       "      <th>city</th>\n",
       "      <th>postal_code</th>\n",
       "      <th>latitude</th>\n",
       "      <th>longitude</th>\n",
       "      <th>stars_x</th>\n",
       "      <th>review_count</th>\n",
       "      <th>user_id</th>\n",
       "      <th>review_id</th>\n",
       "      <th>stars_y</th>\n",
       "      <th>text</th>\n",
       "      <th>date</th>\n",
       "    </tr>\n",
       "  </thead>\n",
       "  <tbody>\n",
       "    <tr>\n",
       "      <th>0</th>\n",
       "      <td>utIA0LyQmwP-9DRyxUe6qQ</td>\n",
       "      <td>Snooze, An A.M. Eatery</td>\n",
       "      <td>Phoenix</td>\n",
       "      <td>85016</td>\n",
       "      <td>33.508204</td>\n",
       "      <td>-112.037033</td>\n",
       "      <td>4.0</td>\n",
       "      <td>3515</td>\n",
       "      <td>ODVDyAAg1pz8hrkzCNoMzQ</td>\n",
       "      <td>pgT1lFg-OZ85Nx8me3B6gA</td>\n",
       "      <td>4.0</td>\n",
       "      <td>Cute place. 30 minute wait, but I was solo so ...</td>\n",
       "      <td>2017-01-14 20:55:21</td>\n",
       "    </tr>\n",
       "    <tr>\n",
       "      <th>1</th>\n",
       "      <td>utIA0LyQmwP-9DRyxUe6qQ</td>\n",
       "      <td>Snooze, An A.M. Eatery</td>\n",
       "      <td>Phoenix</td>\n",
       "      <td>85016</td>\n",
       "      <td>33.508204</td>\n",
       "      <td>-112.037033</td>\n",
       "      <td>4.0</td>\n",
       "      <td>3515</td>\n",
       "      <td>kxIe2LdUZwk0TjMr9rmEEw</td>\n",
       "      <td>dWDvgZ0PUZJ1c3IYbDwX3Q</td>\n",
       "      <td>5.0</td>\n",
       "      <td>Retro meets modern twist on breakfast...where ...</td>\n",
       "      <td>2013-12-07 15:06:03</td>\n",
       "    </tr>\n",
       "    <tr>\n",
       "      <th>2</th>\n",
       "      <td>utIA0LyQmwP-9DRyxUe6qQ</td>\n",
       "      <td>Snooze, An A.M. Eatery</td>\n",
       "      <td>Phoenix</td>\n",
       "      <td>85016</td>\n",
       "      <td>33.508204</td>\n",
       "      <td>-112.037033</td>\n",
       "      <td>4.0</td>\n",
       "      <td>3515</td>\n",
       "      <td>69HEK_RkhY2bkF2psLQqfQ</td>\n",
       "      <td>To7S1zGtXiOIsyBGzYhdbg</td>\n",
       "      <td>5.0</td>\n",
       "      <td>James is the guy to get as your server when yo...</td>\n",
       "      <td>2015-04-01 16:56:45</td>\n",
       "    </tr>\n",
       "    <tr>\n",
       "      <th>3</th>\n",
       "      <td>utIA0LyQmwP-9DRyxUe6qQ</td>\n",
       "      <td>Snooze, An A.M. Eatery</td>\n",
       "      <td>Phoenix</td>\n",
       "      <td>85016</td>\n",
       "      <td>33.508204</td>\n",
       "      <td>-112.037033</td>\n",
       "      <td>4.0</td>\n",
       "      <td>3515</td>\n",
       "      <td>ALrlaBLQTIb4UjM7BfNVJg</td>\n",
       "      <td>S7LTn6u8NRMr49-Izgpnvw</td>\n",
       "      <td>4.0</td>\n",
       "      <td>Three of us headed for Sunday breakfast after ...</td>\n",
       "      <td>2014-07-13 18:05:33</td>\n",
       "    </tr>\n",
       "    <tr>\n",
       "      <th>4</th>\n",
       "      <td>utIA0LyQmwP-9DRyxUe6qQ</td>\n",
       "      <td>Snooze, An A.M. Eatery</td>\n",
       "      <td>Phoenix</td>\n",
       "      <td>85016</td>\n",
       "      <td>33.508204</td>\n",
       "      <td>-112.037033</td>\n",
       "      <td>4.0</td>\n",
       "      <td>3515</td>\n",
       "      <td>yKDYOFDbniB_9RYwHLJEgg</td>\n",
       "      <td>oypG4JQ29ERpVYt-ix7gcA</td>\n",
       "      <td>5.0</td>\n",
       "      <td>Solid food. I got half and half if bella bella...</td>\n",
       "      <td>2014-12-17 18:22:38</td>\n",
       "    </tr>\n",
       "    <tr>\n",
       "      <th>...</th>\n",
       "      <td>...</td>\n",
       "      <td>...</td>\n",
       "      <td>...</td>\n",
       "      <td>...</td>\n",
       "      <td>...</td>\n",
       "      <td>...</td>\n",
       "      <td>...</td>\n",
       "      <td>...</td>\n",
       "      <td>...</td>\n",
       "      <td>...</td>\n",
       "      <td>...</td>\n",
       "      <td>...</td>\n",
       "      <td>...</td>\n",
       "    </tr>\n",
       "    <tr>\n",
       "      <th>601450</th>\n",
       "      <td>AuIiqDeL65kczmiFSkAWrA</td>\n",
       "      <td>Maggiano's Little Italy</td>\n",
       "      <td>Charlotte</td>\n",
       "      <td>28211</td>\n",
       "      <td>35.152157</td>\n",
       "      <td>-80.830269</td>\n",
       "      <td>3.5</td>\n",
       "      <td>404</td>\n",
       "      <td>lfe4h-HV22dCCItXpGmbrQ</td>\n",
       "      <td>SX_8lLeuqlLrYoTx4YnUsQ</td>\n",
       "      <td>2.0</td>\n",
       "      <td>This review reflects my most recent visit to m...</td>\n",
       "      <td>2017-01-23 17:18:11</td>\n",
       "    </tr>\n",
       "    <tr>\n",
       "      <th>601451</th>\n",
       "      <td>AuIiqDeL65kczmiFSkAWrA</td>\n",
       "      <td>Maggiano's Little Italy</td>\n",
       "      <td>Charlotte</td>\n",
       "      <td>28211</td>\n",
       "      <td>35.152157</td>\n",
       "      <td>-80.830269</td>\n",
       "      <td>3.5</td>\n",
       "      <td>404</td>\n",
       "      <td>7Gm_aM6MiN1KFc7envS55Q</td>\n",
       "      <td>1BPEMiQbiuNo4ORQSI9h8Q</td>\n",
       "      <td>4.0</td>\n",
       "      <td>My wife and I were invited to a Murder Mystery...</td>\n",
       "      <td>2018-11-01 16:25:58</td>\n",
       "    </tr>\n",
       "    <tr>\n",
       "      <th>601452</th>\n",
       "      <td>AuIiqDeL65kczmiFSkAWrA</td>\n",
       "      <td>Maggiano's Little Italy</td>\n",
       "      <td>Charlotte</td>\n",
       "      <td>28211</td>\n",
       "      <td>35.152157</td>\n",
       "      <td>-80.830269</td>\n",
       "      <td>3.5</td>\n",
       "      <td>404</td>\n",
       "      <td>sICr3-csqXQhFmMY6bki6g</td>\n",
       "      <td>YPIQaoLRjnzzrzOg-yIC3g</td>\n",
       "      <td>5.0</td>\n",
       "      <td>Maggiano's is a very well known upscale Italia...</td>\n",
       "      <td>2009-03-15 00:00:11</td>\n",
       "    </tr>\n",
       "    <tr>\n",
       "      <th>601453</th>\n",
       "      <td>AuIiqDeL65kczmiFSkAWrA</td>\n",
       "      <td>Maggiano's Little Italy</td>\n",
       "      <td>Charlotte</td>\n",
       "      <td>28211</td>\n",
       "      <td>35.152157</td>\n",
       "      <td>-80.830269</td>\n",
       "      <td>3.5</td>\n",
       "      <td>404</td>\n",
       "      <td>5Z5Pq5tMKzbXjATgXsKFFQ</td>\n",
       "      <td>EEhZkau1TGJAE1PzN1YUkA</td>\n",
       "      <td>4.0</td>\n",
       "      <td>Had a family celebration here at Maggiano's I ...</td>\n",
       "      <td>2019-01-15 03:17:04</td>\n",
       "    </tr>\n",
       "    <tr>\n",
       "      <th>601454</th>\n",
       "      <td>AuIiqDeL65kczmiFSkAWrA</td>\n",
       "      <td>Maggiano's Little Italy</td>\n",
       "      <td>Charlotte</td>\n",
       "      <td>28211</td>\n",
       "      <td>35.152157</td>\n",
       "      <td>-80.830269</td>\n",
       "      <td>3.5</td>\n",
       "      <td>404</td>\n",
       "      <td>HbeuaFL7WPpdEQPiLeK5bA</td>\n",
       "      <td>ew8nmGn7G7fWlJxuZVL00Q</td>\n",
       "      <td>5.0</td>\n",
       "      <td>Went there with my wife for celebration of Val...</td>\n",
       "      <td>2019-02-13 23:11:31</td>\n",
       "    </tr>\n",
       "  </tbody>\n",
       "</table>\n",
       "<p>601455 rows × 13 columns</p>\n",
       "</div>"
      ],
      "text/plain": [
       "                   business_id                     name       city  \\\n",
       "0       utIA0LyQmwP-9DRyxUe6qQ   Snooze, An A.M. Eatery    Phoenix   \n",
       "1       utIA0LyQmwP-9DRyxUe6qQ   Snooze, An A.M. Eatery    Phoenix   \n",
       "2       utIA0LyQmwP-9DRyxUe6qQ   Snooze, An A.M. Eatery    Phoenix   \n",
       "3       utIA0LyQmwP-9DRyxUe6qQ   Snooze, An A.M. Eatery    Phoenix   \n",
       "4       utIA0LyQmwP-9DRyxUe6qQ   Snooze, An A.M. Eatery    Phoenix   \n",
       "...                        ...                      ...        ...   \n",
       "601450  AuIiqDeL65kczmiFSkAWrA  Maggiano's Little Italy  Charlotte   \n",
       "601451  AuIiqDeL65kczmiFSkAWrA  Maggiano's Little Italy  Charlotte   \n",
       "601452  AuIiqDeL65kczmiFSkAWrA  Maggiano's Little Italy  Charlotte   \n",
       "601453  AuIiqDeL65kczmiFSkAWrA  Maggiano's Little Italy  Charlotte   \n",
       "601454  AuIiqDeL65kczmiFSkAWrA  Maggiano's Little Italy  Charlotte   \n",
       "\n",
       "       postal_code   latitude   longitude  stars_x  review_count  \\\n",
       "0            85016  33.508204 -112.037033      4.0          3515   \n",
       "1            85016  33.508204 -112.037033      4.0          3515   \n",
       "2            85016  33.508204 -112.037033      4.0          3515   \n",
       "3            85016  33.508204 -112.037033      4.0          3515   \n",
       "4            85016  33.508204 -112.037033      4.0          3515   \n",
       "...            ...        ...         ...      ...           ...   \n",
       "601450       28211  35.152157  -80.830269      3.5           404   \n",
       "601451       28211  35.152157  -80.830269      3.5           404   \n",
       "601452       28211  35.152157  -80.830269      3.5           404   \n",
       "601453       28211  35.152157  -80.830269      3.5           404   \n",
       "601454       28211  35.152157  -80.830269      3.5           404   \n",
       "\n",
       "                       user_id               review_id  stars_y  \\\n",
       "0       ODVDyAAg1pz8hrkzCNoMzQ  pgT1lFg-OZ85Nx8me3B6gA      4.0   \n",
       "1       kxIe2LdUZwk0TjMr9rmEEw  dWDvgZ0PUZJ1c3IYbDwX3Q      5.0   \n",
       "2       69HEK_RkhY2bkF2psLQqfQ  To7S1zGtXiOIsyBGzYhdbg      5.0   \n",
       "3       ALrlaBLQTIb4UjM7BfNVJg  S7LTn6u8NRMr49-Izgpnvw      4.0   \n",
       "4       yKDYOFDbniB_9RYwHLJEgg  oypG4JQ29ERpVYt-ix7gcA      5.0   \n",
       "...                        ...                     ...      ...   \n",
       "601450  lfe4h-HV22dCCItXpGmbrQ  SX_8lLeuqlLrYoTx4YnUsQ      2.0   \n",
       "601451  7Gm_aM6MiN1KFc7envS55Q  1BPEMiQbiuNo4ORQSI9h8Q      4.0   \n",
       "601452  sICr3-csqXQhFmMY6bki6g  YPIQaoLRjnzzrzOg-yIC3g      5.0   \n",
       "601453  5Z5Pq5tMKzbXjATgXsKFFQ  EEhZkau1TGJAE1PzN1YUkA      4.0   \n",
       "601454  HbeuaFL7WPpdEQPiLeK5bA  ew8nmGn7G7fWlJxuZVL00Q      5.0   \n",
       "\n",
       "                                                     text                 date  \n",
       "0       Cute place. 30 minute wait, but I was solo so ...  2017-01-14 20:55:21  \n",
       "1       Retro meets modern twist on breakfast...where ...  2013-12-07 15:06:03  \n",
       "2       James is the guy to get as your server when yo...  2015-04-01 16:56:45  \n",
       "3       Three of us headed for Sunday breakfast after ...  2014-07-13 18:05:33  \n",
       "4       Solid food. I got half and half if bella bella...  2014-12-17 18:22:38  \n",
       "...                                                   ...                  ...  \n",
       "601450  This review reflects my most recent visit to m...  2017-01-23 17:18:11  \n",
       "601451  My wife and I were invited to a Murder Mystery...  2018-11-01 16:25:58  \n",
       "601452  Maggiano's is a very well known upscale Italia...  2009-03-15 00:00:11  \n",
       "601453  Had a family celebration here at Maggiano's I ...  2019-01-15 03:17:04  \n",
       "601454  Went there with my wife for celebration of Val...  2019-02-13 23:11:31  \n",
       "\n",
       "[601455 rows x 13 columns]"
      ]
     },
     "execution_count": 56,
     "metadata": {},
     "output_type": "execute_result"
    }
   ],
   "source": [
    "newdata.head(-5)"
   ]
  },
  {
   "cell_type": "code",
   "execution_count": 57,
   "metadata": {},
   "outputs": [],
   "source": [
    "# counting the number of reviews, each user has written and appending that value to the datafram\n",
    "newdata['user-reviewCount']= newdata['user_id'].map(newdata['user_id'].value_counts())"
   ]
  },
  {
   "cell_type": "code",
   "execution_count": 58,
   "metadata": {},
   "outputs": [
    {
     "data": {
      "text/plain": [
       "(163801, 14)"
      ]
     },
     "execution_count": 58,
     "metadata": {},
     "output_type": "execute_result"
    }
   ],
   "source": [
    "# Collecting the details of restaurants that has atleast 20 User-Review count\n",
    "data = newdata[newdata['user-reviewCount']>=5]\n",
    "data.shape"
   ]
  },
  {
   "cell_type": "code",
   "execution_count": 59,
   "metadata": {},
   "outputs": [
    {
     "data": {
      "text/plain": [
       "18040"
      ]
     },
     "execution_count": 59,
     "metadata": {},
     "output_type": "execute_result"
    }
   ],
   "source": [
    "# 975 unique unsers for 30199 reviews and 500 busniness\n",
    "data['user_id'].nunique()"
   ]
  },
  {
   "cell_type": "code",
   "execution_count": 60,
   "metadata": {},
   "outputs": [
    {
     "data": {
      "text/plain": [
       "500"
      ]
     },
     "execution_count": 60,
     "metadata": {},
     "output_type": "execute_result"
    }
   ],
   "source": [
    "data['business_id'].nunique()"
   ]
  },
  {
   "cell_type": "code",
   "execution_count": 61,
   "metadata": {},
   "outputs": [
    {
     "data": {
      "text/plain": [
       "Las Vegas     68367\n",
       "Phoenix       37291\n",
       "Charlotte     22783\n",
       "Pittsburgh    20967\n",
       "Cleveland     14393\n",
       "Name: city, dtype: int64"
      ]
     },
     "execution_count": 61,
     "metadata": {},
     "output_type": "execute_result"
    }
   ],
   "source": [
    "data['city'].value_counts()"
   ]
  },
  {
   "cell_type": "code",
   "execution_count": 62,
   "metadata": {},
   "outputs": [
    {
     "data": {
      "text/plain": [
       "Index(['business_id', 'name', 'city', 'postal_code', 'latitude', 'longitude',\n",
       "       'stars_x', 'review_count', 'user_id', 'review_id', 'stars_y', 'text',\n",
       "       'date', 'user-reviewCount'],\n",
       "      dtype='object')"
      ]
     },
     "execution_count": 62,
     "metadata": {},
     "output_type": "execute_result"
    }
   ],
   "source": [
    "data.columns"
   ]
  },
  {
   "cell_type": "code",
   "execution_count": 63,
   "metadata": {},
   "outputs": [],
   "source": [
    "data.to_csv('AIT590-data.csv')"
   ]
  },
  {
   "cell_type": "code",
   "execution_count": null,
   "metadata": {},
   "outputs": [],
   "source": []
  },
  {
   "cell_type": "code",
   "execution_count": null,
   "metadata": {},
   "outputs": [],
   "source": []
  }
 ],
 "metadata": {
  "kernelspec": {
   "display_name": "Python 3",
   "language": "python",
   "name": "python3"
  },
  "language_info": {
   "codemirror_mode": {
    "name": "ipython",
    "version": 3
   },
   "file_extension": ".py",
   "mimetype": "text/x-python",
   "name": "python",
   "nbconvert_exporter": "python",
   "pygments_lexer": "ipython3",
   "version": "3.7.6"
  }
 },
 "nbformat": 4,
 "nbformat_minor": 4
}
